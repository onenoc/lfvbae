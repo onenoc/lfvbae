{
 "cells": [
  {
   "cell_type": "code",
   "execution_count": null,
   "metadata": {
    "collapsed": true
   },
   "outputs": [],
   "source": []
  },
  {
   "cell_type": "markdown",
   "metadata": {},
   "source": [
    "$$\\begin{eqnarray}\\ln p(X) &=& KL(q(\\theta) || p(\\theta | x)) + \\mathcal {L}\\\\\n",
    "\\mathcal{L} &=& \\int q(\\theta) \\ln \\frac{p(\\theta,X)}{q(\\theta)} \\:d\\theta\\\\\n",
    "&=& \\int q(\\theta)\\ln p(X|\\theta) \\:d\\theta + \\int q(\\theta) \\ln \\frac{p(\\theta)}{q(\\theta)} \\:d\\theta\\\\\n",
    "&=& \\int \\int q(\\theta) \\ln p(X|f(\\theta,u)) p(u) \\:du \\:d\\theta+KL(q(\\theta) || p(\\theta))\\\\\n",
    "&=& \\mathbb{E}_{q(\\theta)}(\\mathbb{E}_{u}(\\ln p(X|f(\\theta,u))))+KL(q(\\theta) || p(\\theta))\\\\\n",
    "&=& \\mathbb{E}_{q(\\nu)}(\\mathbb{E}_{u}(\\ln p(X|f(\\mu+\\sigma\\cdot \\nu,u))))+KL(q(\\theta) || p(\\theta))\\\\\n",
    "\\end{eqnarray}$$\n"
   ]
  },
  {
   "cell_type": "code",
   "execution_count": null,
   "metadata": {
    "collapsed": true
   },
   "outputs": [],
   "source": []
  }
 ],
 "metadata": {
  "kernelspec": {
   "display_name": "Python 2",
   "language": "python",
   "name": "python2"
  },
  "language_info": {
   "codemirror_mode": {
    "name": "ipython",
    "version": 2
   },
   "file_extension": ".py",
   "mimetype": "text/x-python",
   "name": "python",
   "nbconvert_exporter": "python",
   "pygments_lexer": "ipython2",
   "version": "2.7.5"
  }
 },
 "nbformat": 4,
 "nbformat_minor": 0
}
